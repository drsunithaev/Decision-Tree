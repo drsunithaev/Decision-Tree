{
  "cells": [
    {
      "cell_type": "markdown",
      "metadata": {
        "id": "view-in-github",
        "colab_type": "text"
      },
      "source": [
        "<a href=\"https://colab.research.google.com/github/drsunithaev/Decision-Tree/blob/main/decision_tree_fsdsmay_Ensemble_regressor.ipynb\" target=\"_parent\"><img src=\"https://colab.research.google.com/assets/colab-badge.svg\" alt=\"Open In Colab\"/></a>"
      ]
    },
    {
      "cell_type": "markdown",
      "source": [
        "#Regression with Bagging, RandomForest, Voting"
      ],
      "metadata": {
        "id": "U-N02sC6bKU9"
      },
      "id": "U-N02sC6bKU9"
    },
    {
      "cell_type": "code",
      "execution_count": 3,
      "metadata": {
        "id": "fw-REKX3SPic"
      },
      "outputs": [],
      "source": [
        "import pandas as pd\n",
        "import numpy as np\n",
        "#df=pd.read_csv(\"https://raw.githubusercontent.com/shrikant-temburwar/Wine-Quality-Dataset/master/winequality-red.csv\",sep = ';')"
      ],
      "id": "fw-REKX3SPic"
    },
    {
      "cell_type": "code",
      "source": [
        "data = pd.read_pickle('/content/drive/MyDrive/Data Science/consumption_data.pkl')"
      ],
      "metadata": {
        "id": "AZmuSqllaRmZ"
      },
      "id": "AZmuSqllaRmZ",
      "execution_count": 4,
      "outputs": []
    },
    {
      "cell_type": "code",
      "execution_count": 6,
      "metadata": {
        "id": "3nCb0AbYSPie"
      },
      "outputs": [],
      "source": [
        "\n",
        "from sklearn.ensemble import BaggingRegressor\n",
        "from sklearn.ensemble import ExtraTreesRegressor\n",
        "from sklearn.ensemble import RandomForestRegressor\n"
      ],
      "id": "3nCb0AbYSPie"
    },
    {
      "cell_type": "code",
      "execution_count": 7,
      "metadata": {
        "id": "3JEnPyGtSPig"
      },
      "outputs": [],
      "source": [
        "from sklearn.model_selection import train_test_split,GridSearchCV"
      ],
      "id": "3JEnPyGtSPig"
    },
    {
      "cell_type": "code",
      "source": [
        "data.head(3)"
      ],
      "metadata": {
        "id": "KAjUzG5Cbc0W"
      },
      "id": "KAjUzG5Cbc0W",
      "execution_count": null,
      "outputs": []
    },
    {
      "cell_type": "code",
      "source": [
        "y = data[\"consumption\"]\n",
        "X = data.drop(\"consumption\", axis =1)"
      ],
      "metadata": {
        "id": "42gyFMajbhjO"
      },
      "id": "42gyFMajbhjO",
      "execution_count": 14,
      "outputs": []
    },
    {
      "cell_type": "code",
      "execution_count": 15,
      "metadata": {
        "id": "EVW2nB3hSPig"
      },
      "outputs": [],
      "source": [
        "X_train,X_test,y_train,y_test=train_test_split(X,y,test_size=0.33,random_state=10)"
      ],
      "id": "EVW2nB3hSPig"
    },
    {
      "cell_type": "markdown",
      "metadata": {
        "id": "N2f2dF6aSPih"
      },
      "source": [
        "# Bagging, ExtraTree, RandomForest"
      ],
      "id": "N2f2dF6aSPih"
    },
    {
      "cell_type": "code",
      "execution_count": 16,
      "metadata": {
        "id": "zOyjm_ZvSPir"
      },
      "outputs": [],
      "source": [
        "#model_v = VotingClassifier()\n",
        "model_b = BaggingRegressor()\n",
        "model_e = ExtraTreesRegressor()\n",
        "model_r = RandomForestRegressor()\n"
      ],
      "id": "zOyjm_ZvSPir"
    },
    {
      "cell_type": "code",
      "execution_count": 17,
      "metadata": {
        "colab": {
          "base_uri": "https://localhost:8080/"
        },
        "id": "PJeRz9XPSPir",
        "outputId": "2f3ae761-0a75-4780-b8b8-0853bedb30d4"
      },
      "outputs": [
        {
          "output_type": "execute_result",
          "data": {
            "text/plain": [
              "RandomForestRegressor()"
            ]
          },
          "metadata": {},
          "execution_count": 17
        }
      ],
      "source": [
        "model_b.fit(X_train,y_train)\n",
        "model_e.fit(X_train,y_train)\n",
        "model_r.fit(X_train,y_train)"
      ],
      "id": "PJeRz9XPSPir"
    },
    {
      "cell_type": "code",
      "execution_count": 18,
      "metadata": {
        "id": "y2bg-9iGSPis"
      },
      "outputs": [],
      "source": [
        "y_predict_b = model_b.predict(X_test)\n",
        "y_predict_e = model_e.predict(X_test)\n",
        "y_predict_r = model_r.predict(X_test)"
      ],
      "id": "y2bg-9iGSPis"
    },
    {
      "cell_type": "markdown",
      "metadata": {
        "id": "DjsvBpYgSPis"
      },
      "source": [
        "### Performance of Bagging, ExtraTree, RandomForest Regressors"
      ],
      "id": "DjsvBpYgSPis"
    },
    {
      "cell_type": "code",
      "execution_count": 19,
      "metadata": {
        "id": "IzITq0hQSPis"
      },
      "outputs": [],
      "source": [
        "from sklearn.metrics import r2_score"
      ],
      "id": "IzITq0hQSPis"
    },
    {
      "cell_type": "code",
      "execution_count": 20,
      "metadata": {
        "colab": {
          "base_uri": "https://localhost:8080/"
        },
        "id": "EnoCeZQASPit",
        "outputId": "61068a8f-43b6-4bfe-afba-b40e86050083"
      },
      "outputs": [
        {
          "output_type": "execute_result",
          "data": {
            "text/plain": [
              "0.7914655006795133"
            ]
          },
          "metadata": {},
          "execution_count": 20
        }
      ],
      "source": [
        "#BaggingRegressor\n",
        "r2_score(y_test,y_predict_b)"
      ],
      "id": "EnoCeZQASPit"
    },
    {
      "cell_type": "code",
      "execution_count": 21,
      "metadata": {
        "colab": {
          "base_uri": "https://localhost:8080/"
        },
        "id": "g6y2nCHuSPit",
        "outputId": "d477e019-8376-49aa-9a4d-69ddfcaafef5"
      },
      "outputs": [
        {
          "output_type": "execute_result",
          "data": {
            "text/plain": [
              "0.8124860489575001"
            ]
          },
          "metadata": {},
          "execution_count": 21
        }
      ],
      "source": [
        "#ExtraTree Regressor\n",
        "r2_score(y_test,y_predict_e)"
      ],
      "id": "g6y2nCHuSPit"
    },
    {
      "cell_type": "code",
      "execution_count": 22,
      "metadata": {
        "colab": {
          "base_uri": "https://localhost:8080/"
        },
        "id": "cj5ScqyzSPit",
        "outputId": "f80e4804-5dc9-4729-976f-79d0de69937a"
      },
      "outputs": [
        {
          "output_type": "execute_result",
          "data": {
            "text/plain": [
              "0.7958357526557335"
            ]
          },
          "metadata": {},
          "execution_count": 22
        }
      ],
      "source": [
        "#RandomForest Regressor\n",
        "r2_score(y_test,y_predict_r)"
      ],
      "id": "cj5ScqyzSPit"
    },
    {
      "cell_type": "markdown",
      "source": [
        "#Voting Regressor"
      ],
      "metadata": {
        "id": "Fx_xNrSdVwBk"
      },
      "id": "Fx_xNrSdVwBk"
    },
    {
      "cell_type": "code",
      "source": [
        "from sklearn.ensemble import VotingRegressor"
      ],
      "metadata": {
        "id": "xnSQDp1MdOVT"
      },
      "id": "xnSQDp1MdOVT",
      "execution_count": 25,
      "outputs": []
    },
    {
      "cell_type": "code",
      "source": [
        "model_v = VotingRegressor(estimators=[('lr', model_b), ('rf', model_e), ('gnb', model_r)])"
      ],
      "metadata": {
        "id": "Zpn9VzXFVWbl"
      },
      "id": "Zpn9VzXFVWbl",
      "execution_count": 27,
      "outputs": []
    },
    {
      "cell_type": "code",
      "source": [
        "model_v.fit(X_train, y_train)"
      ],
      "metadata": {
        "colab": {
          "base_uri": "https://localhost:8080/"
        },
        "id": "MQ0Fw2v0V1go",
        "outputId": "378ebe79-6ae0-4733-e53c-554ea292658c"
      },
      "id": "MQ0Fw2v0V1go",
      "execution_count": 28,
      "outputs": [
        {
          "output_type": "execute_result",
          "data": {
            "text/plain": [
              "VotingRegressor(estimators=[('lr', BaggingRegressor()),\n",
              "                            ('rf', ExtraTreesRegressor()),\n",
              "                            ('gnb', RandomForestRegressor())])"
            ]
          },
          "metadata": {},
          "execution_count": 28
        }
      ]
    },
    {
      "cell_type": "code",
      "source": [
        "model_v.score(X_test, y_test)"
      ],
      "metadata": {
        "colab": {
          "base_uri": "https://localhost:8080/"
        },
        "id": "Qckv2PBHV8tS",
        "outputId": "256233e9-ce6c-4eaf-8d34-24f3e67670a5"
      },
      "id": "Qckv2PBHV8tS",
      "execution_count": 29,
      "outputs": [
        {
          "output_type": "execute_result",
          "data": {
            "text/plain": [
              "0.7944593906136578"
            ]
          },
          "metadata": {},
          "execution_count": 29
        }
      ]
    },
    {
      "cell_type": "code",
      "source": [
        "y_predict_v = model_v.predict(X_test)"
      ],
      "metadata": {
        "id": "zauB3_FIV8jr"
      },
      "id": "zauB3_FIV8jr",
      "execution_count": 30,
      "outputs": []
    },
    {
      "cell_type": "code",
      "source": [
        "r2_score(y_test,y_predict_v)"
      ],
      "metadata": {
        "colab": {
          "base_uri": "https://localhost:8080/"
        },
        "id": "M7ZpRtHcV8Pi",
        "outputId": "e77fa5c0-7ce4-4ed1-dcb7-f4d2497fc928"
      },
      "id": "M7ZpRtHcV8Pi",
      "execution_count": 31,
      "outputs": [
        {
          "output_type": "execute_result",
          "data": {
            "text/plain": [
              "0.7944593906136578"
            ]
          },
          "metadata": {},
          "execution_count": 31
        }
      ]
    }
  ],
  "metadata": {
    "kernelspec": {
      "display_name": "Python 3",
      "language": "python",
      "name": "python3"
    },
    "language_info": {
      "codemirror_mode": {
        "name": "ipython",
        "version": 3
      },
      "file_extension": ".py",
      "mimetype": "text/x-python",
      "name": "python",
      "nbconvert_exporter": "python",
      "pygments_lexer": "ipython3",
      "version": "3.6.4"
    },
    "colab": {
      "provenance": [],
      "include_colab_link": true
    },
    "accelerator": "TPU",
    "gpuClass": "standard"
  },
  "nbformat": 4,
  "nbformat_minor": 5
}