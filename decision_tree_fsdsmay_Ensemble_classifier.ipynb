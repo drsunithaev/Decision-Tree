{
  "cells": [
    {
      "cell_type": "markdown",
      "metadata": {
        "id": "view-in-github",
        "colab_type": "text"
      },
      "source": [
        "<a href=\"https://colab.research.google.com/github/drsunithaev/Decision-Tree/blob/main/decision_tree_fsdsmay_Ensemble_classifier.ipynb\" target=\"_parent\"><img src=\"https://colab.research.google.com/assets/colab-badge.svg\" alt=\"Open In Colab\"/></a>"
      ]
    },
    {
      "cell_type": "code",
      "execution_count": 1,
      "metadata": {
        "id": "fw-REKX3SPic"
      },
      "outputs": [],
      "source": [
        "import pandas as pd\n",
        "import numpy as np\n",
        "df=pd.read_csv(\"https://raw.githubusercontent.com/shrikant-temburwar/Wine-Quality-Dataset/master/winequality-red.csv\",sep = ';')"
      ],
      "id": "fw-REKX3SPic"
    },
    {
      "cell_type": "code",
      "execution_count": 2,
      "metadata": {
        "id": "3nCb0AbYSPie"
      },
      "outputs": [],
      "source": [
        "from sklearn.ensemble import VotingClassifier\n",
        "from sklearn.ensemble import BaggingClassifier\n",
        "from sklearn.ensemble import ExtraTreesClassifier\n",
        "from sklearn.ensemble import RandomForestClassifier\n"
      ],
      "id": "3nCb0AbYSPie"
    },
    {
      "cell_type": "code",
      "execution_count": 3,
      "metadata": {
        "id": "3JEnPyGtSPig"
      },
      "outputs": [],
      "source": [
        "from sklearn.model_selection import train_test_split,GridSearchCV"
      ],
      "id": "3JEnPyGtSPig"
    },
    {
      "cell_type": "code",
      "execution_count": 4,
      "metadata": {
        "id": "SQQ6Gca4SPig"
      },
      "outputs": [],
      "source": [
        "df=df.drop_duplicates()\n",
        "X=df.drop(\"quality\",axis=1)\n",
        "y=df['quality']"
      ],
      "id": "SQQ6Gca4SPig"
    },
    {
      "cell_type": "code",
      "execution_count": 5,
      "metadata": {
        "id": "EVW2nB3hSPig"
      },
      "outputs": [],
      "source": [
        "X_train,X_test,y_train,y_test=train_test_split(X,y,test_size=0.33,random_state=10)"
      ],
      "id": "EVW2nB3hSPig"
    },
    {
      "cell_type": "markdown",
      "metadata": {
        "id": "N2f2dF6aSPih"
      },
      "source": [
        "# Bagging, ExtraTree, RandomForest"
      ],
      "id": "N2f2dF6aSPih"
    },
    {
      "cell_type": "code",
      "execution_count": 6,
      "metadata": {
        "id": "zOyjm_ZvSPir"
      },
      "outputs": [],
      "source": [
        "#model_v = VotingClassifier()\n",
        "model_b = BaggingClassifier()\n",
        "model_e = ExtraTreesClassifier()\n",
        "model_r = RandomForestClassifier()\n"
      ],
      "id": "zOyjm_ZvSPir"
    },
    {
      "cell_type": "code",
      "execution_count": 7,
      "metadata": {
        "colab": {
          "base_uri": "https://localhost:8080/"
        },
        "id": "PJeRz9XPSPir",
        "outputId": "bcaf74a8-e879-4673-a2ee-a5f43d5727ba"
      },
      "outputs": [
        {
          "output_type": "execute_result",
          "data": {
            "text/plain": [
              "RandomForestClassifier()"
            ]
          },
          "metadata": {},
          "execution_count": 7
        }
      ],
      "source": [
        "model_b.fit(X_train,y_train)\n",
        "model_e.fit(X_train,y_train)\n",
        "model_r.fit(X_train,y_train)"
      ],
      "id": "PJeRz9XPSPir"
    },
    {
      "cell_type": "code",
      "execution_count": 8,
      "metadata": {
        "id": "y2bg-9iGSPis"
      },
      "outputs": [],
      "source": [
        "y_predict_b = model_b.predict(X_test)\n",
        "y_predict_e = model_e.predict(X_test)\n",
        "y_predict_r = model_r.predict(X_test)"
      ],
      "id": "y2bg-9iGSPis"
    },
    {
      "cell_type": "markdown",
      "metadata": {
        "id": "DjsvBpYgSPis"
      },
      "source": [
        "### Accuracy of Bagging, ExtraTree, RandomForest"
      ],
      "id": "DjsvBpYgSPis"
    },
    {
      "cell_type": "code",
      "execution_count": 9,
      "metadata": {
        "id": "IzITq0hQSPis"
      },
      "outputs": [],
      "source": [
        "from sklearn.metrics import accuracy_score"
      ],
      "id": "IzITq0hQSPis"
    },
    {
      "cell_type": "code",
      "execution_count": 10,
      "metadata": {
        "colab": {
          "base_uri": "https://localhost:8080/"
        },
        "id": "EnoCeZQASPit",
        "outputId": "aa83b568-d5bf-4f26-9c93-57f1452b9294"
      },
      "outputs": [
        {
          "output_type": "execute_result",
          "data": {
            "text/plain": [
              "0.5924276169265034"
            ]
          },
          "metadata": {},
          "execution_count": 10
        }
      ],
      "source": [
        "#BaggingClassifier\n",
        "accuracy_score(y_test,y_predict_b)"
      ],
      "id": "EnoCeZQASPit"
    },
    {
      "cell_type": "code",
      "execution_count": 11,
      "metadata": {
        "colab": {
          "base_uri": "https://localhost:8080/"
        },
        "id": "g6y2nCHuSPit",
        "outputId": "b4956abd-9a69-41de-ff25-c4d1a954763e"
      },
      "outputs": [
        {
          "output_type": "execute_result",
          "data": {
            "text/plain": [
              "0.5857461024498887"
            ]
          },
          "metadata": {},
          "execution_count": 11
        }
      ],
      "source": [
        "#ExtraTree Classifier\n",
        "accuracy_score(y_test,y_predict_e)"
      ],
      "id": "g6y2nCHuSPit"
    },
    {
      "cell_type": "code",
      "execution_count": 12,
      "metadata": {
        "colab": {
          "base_uri": "https://localhost:8080/"
        },
        "id": "cj5ScqyzSPit",
        "outputId": "9c91740e-cdc1-4a72-c956-53415c718706"
      },
      "outputs": [
        {
          "output_type": "execute_result",
          "data": {
            "text/plain": [
              "0.6013363028953229"
            ]
          },
          "metadata": {},
          "execution_count": 12
        }
      ],
      "source": [
        "#RandomForestClassifier\n",
        "accuracy_score(y_test,y_predict_r)"
      ],
      "id": "cj5ScqyzSPit"
    },
    {
      "cell_type": "markdown",
      "metadata": {
        "id": "jtLJln-zSPit"
      },
      "source": [
        "## Best parameters"
      ],
      "id": "jtLJln-zSPit"
    },
    {
      "cell_type": "code",
      "execution_count": 13,
      "metadata": {
        "id": "6G2QiFAaSPiu"
      },
      "outputs": [],
      "source": [
        "grid_param_b = {\n",
        "    \"n_estimators\" : [90,100,130,150],\n",
        "    'oob_score' : [True, False]\n",
        "}\n",
        "\n",
        "grid_param_e = {\n",
        "    \"n_estimators\" : [90,100,130],\n",
        "    'criterion' : ['gini', 'entropy'],\n",
        "     'max_depth' : range(2,10,1),\n",
        "    'min_samples_leaf' : range(1,8,1),\n",
        "    'min_samples_split': range(2,8,1)\n",
        "}\n",
        "\n",
        "grid_param_r = {\n",
        "     \"n_estimators\" : [90,100,130],\n",
        "    'criterion' : ['gini', 'entropy', 'log_loss'],\n",
        "     'max_depth' : range(2,10,1),\n",
        "    'min_samples_leaf' : range(1,8,1),\n",
        "    'min_samples_split': range(2,8,1)\n",
        "}\n"
      ],
      "id": "6G2QiFAaSPiu"
    },
    {
      "cell_type": "code",
      "execution_count": 14,
      "metadata": {
        "id": "U1sDKay3SPiu"
      },
      "outputs": [],
      "source": [
        "from sklearn.model_selection import GridSearchCV\n",
        "grid_searh_b = GridSearchCV(estimator=model_b,param_grid=grid_param_b,cv=3,verbose=2,n_jobs = -1)\n",
        "grid_searh_e = GridSearchCV(estimator=model_e,param_grid=grid_param_e,cv=3,verbose=2,n_jobs = -1)\n",
        "grid_searh_r = GridSearchCV(estimator=model_r,param_grid=grid_param_r,cv=3,verbose=2,n_jobs = -1)"
      ],
      "id": "U1sDKay3SPiu"
    },
    {
      "cell_type": "code",
      "execution_count": 15,
      "metadata": {
        "colab": {
          "base_uri": "https://localhost:8080/"
        },
        "id": "zQmwHs7DSPiu",
        "outputId": "f497d53e-7f77-4d9f-f96c-1f17e4b8acfb"
      },
      "outputs": [
        {
          "output_type": "stream",
          "name": "stdout",
          "text": [
            "Fitting 3 folds for each of 8 candidates, totalling 24 fits\n"
          ]
        },
        {
          "output_type": "execute_result",
          "data": {
            "text/plain": [
              "GridSearchCV(cv=3, estimator=BaggingClassifier(), n_jobs=-1,\n",
              "             param_grid={'n_estimators': [90, 100, 130, 150],\n",
              "                         'oob_score': [True, False]},\n",
              "             verbose=2)"
            ]
          },
          "metadata": {},
          "execution_count": 15
        }
      ],
      "source": [
        "grid_searh_b.fit(X_train,y_train)\n"
      ],
      "id": "zQmwHs7DSPiu"
    },
    {
      "cell_type": "code",
      "execution_count": null,
      "metadata": {
        "colab": {
          "base_uri": "https://localhost:8080/"
        },
        "id": "oSX5kZhZSPiv",
        "outputId": "b01c0e0e-f944-442d-ae2f-576c0f296071"
      },
      "outputs": [
        {
          "output_type": "stream",
          "name": "stdout",
          "text": [
            "Fitting 3 folds for each of 2016 candidates, totalling 6048 fits\n"
          ]
        }
      ],
      "source": [
        "grid_searh_e.fit(X_train,y_train)\n"
      ],
      "id": "oSX5kZhZSPiv"
    },
    {
      "cell_type": "code",
      "execution_count": null,
      "metadata": {
        "id": "LfnUHSdZSPiv"
      },
      "outputs": [],
      "source": [
        "grid_searh_r.fit(X_train,y_train)"
      ],
      "id": "LfnUHSdZSPiv"
    },
    {
      "cell_type": "code",
      "execution_count": 16,
      "metadata": {
        "id": "tOvGdM2aSPiv",
        "colab": {
          "base_uri": "https://localhost:8080/"
        },
        "outputId": "6ad8ff7b-c652-45a7-bba2-c6478beae220"
      },
      "outputs": [
        {
          "output_type": "execute_result",
          "data": {
            "text/plain": [
              "{'n_estimators': 90, 'oob_score': True}"
            ]
          },
          "metadata": {},
          "execution_count": 16
        }
      ],
      "source": [
        "grid_searh_b.best_params_"
      ],
      "id": "tOvGdM2aSPiv"
    },
    {
      "cell_type": "code",
      "execution_count": null,
      "metadata": {
        "id": "qIOMLMZJSPiv"
      },
      "outputs": [],
      "source": [
        "grid_searh_e.best_params_"
      ],
      "id": "qIOMLMZJSPiv"
    },
    {
      "cell_type": "code",
      "execution_count": null,
      "metadata": {
        "id": "-a_AuAf-SPiv"
      },
      "outputs": [],
      "source": [
        "grid_searh_r.best_params_"
      ],
      "id": "-a_AuAf-SPiv"
    },
    {
      "cell_type": "markdown",
      "metadata": {
        "id": "104ECozISPiw"
      },
      "source": [
        "### Models with best parameters"
      ],
      "id": "104ECozISPiw"
    },
    {
      "cell_type": "code",
      "source": [
        "model_b_1 = BaggingClassifier(n_estimators = 90, oob_score = True)"
      ],
      "metadata": {
        "id": "1p3yuAT7Q7-R"
      },
      "id": "1p3yuAT7Q7-R",
      "execution_count": 35,
      "outputs": []
    },
    {
      "cell_type": "code",
      "source": [
        "model_b_1.fit(X_train,y_train)"
      ],
      "metadata": {
        "colab": {
          "base_uri": "https://localhost:8080/"
        },
        "id": "g5WUrPE5Q_NR",
        "outputId": "cec0fcf4-772b-4522-cbd9-b61044feb7cd"
      },
      "id": "g5WUrPE5Q_NR",
      "execution_count": 36,
      "outputs": [
        {
          "output_type": "execute_result",
          "data": {
            "text/plain": [
              "BaggingClassifier(n_estimators=90, oob_score=True)"
            ]
          },
          "metadata": {},
          "execution_count": 36
        }
      ]
    },
    {
      "cell_type": "code",
      "source": [
        "y_predict_b_1 = model_b_1.predict(X_test)"
      ],
      "metadata": {
        "id": "lQHSJKzKRCt1"
      },
      "id": "lQHSJKzKRCt1",
      "execution_count": 37,
      "outputs": []
    },
    {
      "cell_type": "code",
      "execution_count": 38,
      "metadata": {
        "id": "XYe5LHuLSPiw",
        "colab": {
          "base_uri": "https://localhost:8080/"
        },
        "outputId": "be300a6f-aa34-435c-f294-1e477d6871f9"
      },
      "outputs": [
        {
          "output_type": "execute_result",
          "data": {
            "text/plain": [
              "0.5835189309576837"
            ]
          },
          "metadata": {},
          "execution_count": 38
        }
      ],
      "source": [
        "#BaggingClassifier\n",
        "accuracy_score(y_test,y_predict_b_1)"
      ],
      "id": "XYe5LHuLSPiw"
    },
    {
      "cell_type": "code",
      "source": [],
      "metadata": {
        "id": "69xL7QgFRFqj"
      },
      "id": "69xL7QgFRFqj",
      "execution_count": null,
      "outputs": []
    },
    {
      "cell_type": "code",
      "execution_count": null,
      "metadata": {
        "id": "KsWh1_27SPiw"
      },
      "outputs": [],
      "source": [
        "\n",
        "model_e_1 = ExtraTreesClassifier()\n",
        "model_r_1 = RandomForestClassifier()"
      ],
      "id": "KsWh1_27SPiw"
    },
    {
      "cell_type": "code",
      "execution_count": null,
      "metadata": {
        "id": "aXoRcVUtSPiw"
      },
      "outputs": [],
      "source": [
        "\n",
        "model_e_1.fit(X_train,y_train)\n",
        "model_r_1.fit(X_train,y_train)"
      ],
      "id": "aXoRcVUtSPiw"
    },
    {
      "cell_type": "code",
      "execution_count": null,
      "metadata": {
        "id": "0lPQJujCSPiw"
      },
      "outputs": [],
      "source": [
        "\n",
        "y_predict_e_1 = model_e.predict(X_test)\n",
        "y_predict_r_1 = model_r.predict(X_test)"
      ],
      "id": "0lPQJujCSPiw"
    },
    {
      "cell_type": "code",
      "execution_count": null,
      "metadata": {
        "id": "ZHbHHH9mSPix"
      },
      "outputs": [],
      "source": [
        "#ExtraTree Classifier\n",
        "accuracy_score(y_test,y_predict_e_1)"
      ],
      "id": "ZHbHHH9mSPix"
    },
    {
      "cell_type": "code",
      "execution_count": null,
      "metadata": {
        "id": "aXV2pnY8SPix"
      },
      "outputs": [],
      "source": [
        "#RandomFOrest Classifier\n",
        "accuracy_score(y_test,y_predict_r_1)"
      ],
      "id": "aXV2pnY8SPix"
    },
    {
      "cell_type": "code",
      "execution_count": null,
      "metadata": {
        "id": "5BoJiliFSPix",
        "outputId": "ca199ce8-6ad0-4dba-e6e6-99ea7bb33d5d"
      },
      "outputs": [
        {
          "data": {
            "text/plain": [
              "0.5300668151447662"
            ]
          },
          "execution_count": 39,
          "metadata": {},
          "output_type": "execute_result"
        }
      ],
      "source": [
        "model_1 = AdaBoostClassifier(learning_rate= 0.005, n_estimators = 130)\n",
        "model_1.fit(X_train,y_train)\n",
        "y_predict_1 = model_1.predict(X_test)\n",
        "accuracy_score(y_test,y_predict_1)"
      ],
      "id": "5BoJiliFSPix"
    },
    {
      "cell_type": "code",
      "execution_count": null,
      "metadata": {
        "id": "lUTHoxTnSPix"
      },
      "outputs": [],
      "source": [
        "\n"
      ],
      "id": "lUTHoxTnSPix"
    }
  ],
  "metadata": {
    "kernelspec": {
      "display_name": "Python 3",
      "language": "python",
      "name": "python3"
    },
    "language_info": {
      "codemirror_mode": {
        "name": "ipython",
        "version": 3
      },
      "file_extension": ".py",
      "mimetype": "text/x-python",
      "name": "python",
      "nbconvert_exporter": "python",
      "pygments_lexer": "ipython3",
      "version": "3.6.4"
    },
    "colab": {
      "provenance": [],
      "include_colab_link": true
    },
    "accelerator": "TPU",
    "gpuClass": "standard"
  },
  "nbformat": 4,
  "nbformat_minor": 5
}